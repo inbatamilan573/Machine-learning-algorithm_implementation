{
  "nbformat": 4,
  "nbformat_minor": 0,
  "metadata": {
    "colab": {
      "provenance": [],
      "authorship_tag": "ABX9TyOsu5DBt6kyQqzMCkEeZ7Gu",
      "include_colab_link": true
    },
    "kernelspec": {
      "name": "python3",
      "display_name": "Python 3"
    },
    "language_info": {
      "name": "python"
    }
  },
  "cells": [
    {
      "cell_type": "markdown",
      "metadata": {
        "id": "view-in-github",
        "colab_type": "text"
      },
      "source": [
        "<a href=\"https://colab.research.google.com/github/inbatamilan573/Machine-learning-algorithm_implementation/blob/main/gradient_descent__convergence%5Blinear_reg%5D.ipynb\" target=\"_parent\"><img src=\"https://colab.research.google.com/assets/colab-badge.svg\" alt=\"Open In Colab\"/></a>"
      ]
    },
    {
      "cell_type": "code",
      "execution_count": 3,
      "metadata": {
        "id": "wtRjYhLppKWt"
      },
      "outputs": [],
      "source": [
        "import numpy as np\n",
        "class LinearRegression:\n",
        "\n",
        "    def __init__(self, epochs, learning_rate, tolerance=1e-4):\n",
        "        self.epochs = epochs\n",
        "        self.learning_rate = learning_rate\n",
        "        self.tolerance = tolerance\n",
        "        self.all_pre = []\n",
        "\n",
        "    def fit(self, X, Y):\n",
        "      self.rows, self.col = X.shape\n",
        "      self.weight = np.zeros(self.col)\n",
        "      self.bias = 0\n",
        "      self.features = X\n",
        "      self.target = Y\n",
        "\n",
        "      for i in range(self.epochs):\n",
        "        prev_cost = self.calculate_cost()\n",
        "        self.update_weight()\n",
        "        current_cost = self.calculate_cost()\n",
        "        self.all_pre.append(self.predict(self.features))\n",
        "\n",
        "        # Calculate the change in cost\n",
        "        cost_change = abs(prev_cost - current_cost)\n",
        "\n",
        "        # Print or store the change in cost for each iteration\n",
        "        print(f\"Iteration {i + 1}: Change in Cost = {cost_change}\")\n",
        "\n",
        "        # Check for convergence default value 1e-6\n",
        "        if cost_change < self.tolerance:\n",
        "            print(f\"Converged after {i+1} epochs!\")\n",
        "            break\n",
        "\n",
        "\n",
        "    def update_weight(self):\n",
        "        Y_pre = self.predict(self.features)\n",
        "        dw = (-2 * np.sum((self.features.T).dot(self.target - Y_pre))) / self.rows\n",
        "        db = (-2 * np.sum(self.target - Y_pre)) / self.rows\n",
        "\n",
        "        self.weight = self.weight - self.learning_rate * dw\n",
        "        self.bias = self.bias - self.learning_rate * db\n",
        "\n",
        "    def predict(self, f):\n",
        "        return f.dot(self.weight) + self.bias\n",
        "\n",
        "    def calculate_cost(self):\n",
        "        Y_pre = self.predict(self.features)\n",
        "        cost = np.sum((Y_pre - self.target) ** 2) / (2 * self.rows)\n",
        "        return cost\n"
      ]
    },
    {
      "cell_type": "code",
      "source": [
        "import numpy as np\n",
        "\n",
        "# Example dataset\n",
        "X_train = np.array([[1], [2], [3]])\n",
        "y_train = np.array([2, 4, 5])\n",
        "\n",
        "# Instantiate LinearRegression object\n",
        "lr_model = LinearRegression(epochs=1000, learning_rate=0.01, tolerance=1e-6)\n",
        "\n",
        "# Call the fit method to train the model\n",
        "lr_model.fit(X_train, y_train)\n",
        "\n",
        "# Print the final weights and bias\n",
        "print(\"Final Weights:\", lr_model.weight)\n",
        "print(\"Final Bias:\", lr_model.bias)\n",
        "\n",
        "# Make predictions on new data\n",
        "X_test = np.array([[4], [5]])\n",
        "predictions = lr_model.predict(X_test)\n",
        "print(\"Predictions:\", predictions)\n"
      ],
      "metadata": {
        "colab": {
          "base_uri": "https://localhost:8080/"
        },
        "id": "r-vZFmPypYY3",
        "outputId": "078bca4f-807a-4137-feae-a5a67c310ba4"
      },
      "execution_count": 4,
      "outputs": [
        {
          "output_type": "stream",
          "name": "stdout",
          "text": [
            "Iteration 1: Change in Cost = 1.5658296296296301\n",
            "Iteration 2: Change in Cost = 1.2377045968724278\n",
            "Iteration 3: Change in Cost = 0.9783393038861488\n",
            "Iteration 4: Change in Cost = 0.773324908485304\n",
            "Iteration 5: Change in Cost = 0.6112719913882567\n",
            "Iteration 6: Change in Cost = 0.4831778256650343\n",
            "Iteration 7: Change in Cost = 0.3819262370690515\n",
            "Iteration 8: Change in Cost = 0.3018922703726623\n",
            "Iteration 9: Change in Cost = 0.23862969924460442\n",
            "Iteration 10: Change in Cost = 0.18862401951751329\n",
            "Iteration 11: Change in Cost = 0.14909720357377132\n",
            "Iteration 12: Change in Cost = 0.11785336912764538\n",
            "Iteration 13: Change in Cost = 0.09315678864992877\n",
            "Iteration 14: Change in Cost = 0.0736354623411723\n",
            "Iteration 15: Change in Cost = 0.058204897723136945\n",
            "Iteration 16: Change in Cost = 0.04600786148148611\n",
            "Iteration 17: Change in Cost = 0.03636675651899959\n",
            "Iteration 18: Change in Cost = 0.02874597856262598\n",
            "Iteration 19: Change in Cost = 0.022722161074216526\n",
            "Iteration 20: Change in Cost = 0.017960655443512552\n",
            "Iteration 21: Change in Cost = 0.014196939838351366\n",
            "Iteration 22: Change in Cost = 0.011221923894852368\n",
            "Iteration 23: Change in Cost = 0.008870332860795714\n",
            "Iteration 24: Change in Cost = 0.007011525882081274\n",
            "Iteration 25: Change in Cost = 0.00554223834913712\n",
            "Iteration 26: Change in Cost = 0.004380845109836752\n",
            "Iteration 27: Change in Cost = 0.003462825846062459\n",
            "Iteration 28: Change in Cost = 0.0027371806963567696\n",
            "Iteration 29: Change in Cost = 0.0021635969972891578\n",
            "Iteration 30: Change in Cost = 0.0017102097440058889\n",
            "Iteration 31: Change in Cost = 0.0013518313540475668\n",
            "Iteration 32: Change in Cost = 0.001068552390303873\n",
            "Iteration 33: Change in Cost = 0.0008446355073312498\n",
            "Iteration 34: Change in Cost = 0.0006676411750598903\n",
            "Iteration 35: Change in Cost = 0.0005277366101325565\n",
            "Iteration 36: Change in Cost = 0.0004171495230815177\n",
            "Iteration 37: Change in Cost = 0.00032973633467995103\n",
            "Iteration 38: Change in Cost = 0.00026064087405703804\n",
            "Iteration 39: Change in Cost = 0.00020602459780706683\n",
            "Iteration 40: Change in Cost = 0.00016285334262096038\n",
            "Iteration 41: Change in Cost = 0.000128728764645078\n",
            "Iteration 42: Change in Cost = 0.00010175510130629173\n",
            "Iteration 43: Change in Cost = 8.043385366016814e-05\n",
            "Iteration 44: Change in Cost = 6.358053841838338e-05\n",
            "Iteration 45: Change in Cost = 5.025888487746391e-05\n",
            "Iteration 46: Change in Cost = 3.9728821110210366e-05\n",
            "Iteration 47: Change in Cost = 3.1405359831100654e-05\n",
            "Iteration 48: Change in Cost = 2.4826099870735308e-05\n",
            "Iteration 49: Change in Cost = 1.962553783015769e-05\n",
            "Iteration 50: Change in Cost = 1.5514762816144778e-05\n",
            "Iteration 51: Change in Cost = 1.2265406216245556e-05\n",
            "Iteration 52: Change in Cost = 9.69695485295019e-06\n",
            "Iteration 53: Change in Cost = 7.666722712150464e-06\n",
            "Iteration 54: Change in Cost = 6.061924128830665e-06\n",
            "Iteration 55: Change in Cost = 4.793408065313642e-06\n",
            "Iteration 56: Change in Cost = 3.7907053935179458e-06\n",
            "Iteration 57: Change in Cost = 2.998114035503846e-06\n",
            "Iteration 58: Change in Cost = 2.371604476737038e-06\n",
            "Iteration 59: Change in Cost = 1.876373740321291e-06\n",
            "Iteration 60: Change in Cost = 1.4849119337398409e-06\n",
            "Iteration 61: Change in Cost = 1.1754739578893891e-06\n",
            "Iteration 62: Change in Cost = 9.308714741841639e-07\n",
            "Converged after 62 epochs!\n",
            "Final Weights: [1.50113803]\n",
            "Final Bias: 0.6612977867362294\n",
            "Predictions: [6.66584991 8.16698794]\n"
          ]
        }
      ]
    },
    {
      "cell_type": "code",
      "source": [],
      "metadata": {
        "id": "SERf3VREpahP"
      },
      "execution_count": null,
      "outputs": []
    }
  ]
}